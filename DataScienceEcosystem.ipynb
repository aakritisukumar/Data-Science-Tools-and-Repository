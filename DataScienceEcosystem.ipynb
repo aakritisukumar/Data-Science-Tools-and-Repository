{
 "cells": [
  {
   "cell_type": "code",
   "execution_count": 1,
   "id": "78aab4b6",
   "metadata": {},
   "outputs": [],
   "source": [
    "Data Science Tools and Ecosystem"
   ]
  },
  {
   "cell_type": "code",
   "execution_count": null,
   "id": "46525f93",
   "metadata": {},
   "outputs": [],
   "source": [
    "In this notebook, Data Science Tools and Ecosystem are summarized."
   ]
  },
  {
   "cell_type": "code",
   "execution_count": null,
   "id": "c73ea703",
   "metadata": {},
   "outputs": [],
   "source": [
    "Some of the popular languages that Data Scientists use are:\n",
    "1.Python\n",
    "2.R\n",
    "3.SQL\n",
    "4.Java"
   ]
  },
  {
   "cell_type": "code",
   "execution_count": null,
   "id": "c7ca035f",
   "metadata": {},
   "outputs": [],
   "source": [
    "Some of the commonly used libraries used by Data Scientists include:\n",
    "1. Pandas\n",
    "2. Numpy\n",
    "3. Matplotlib\n"
   ]
  },
  {
   "cell_type": "code",
   "execution_count": 4,
   "id": "b86573fd",
   "metadata": {},
   "outputs": [
    {
     "name": "stdout",
     "output_type": "stream",
     "text": [
      " Tool Name        \n",
      "------------------\n",
      " Anaconda           \n",
      " Jupyter Notebook   \n",
      " RStudio            \n"
     ]
    }
   ],
   "source": [
    "tool_names = [\"Anaconda\", \"Jupyter Notebook\", \"RStudio\"]\n",
    "markdown_table = \" Tool Name        \\n------------------\\n\" + \"\\n\".join([f\" {tool:<18} \" for tool in tool_names])\n",
    "print(markdown_table)\n"
   ]
  },
  {
   "cell_type": "code",
   "execution_count": 6,
   "id": "0ab0abc2",
   "metadata": {},
   "outputs": [
    {
     "name": "stdout",
     "output_type": "stream",
     "text": [
      "| Tool Name        |\n",
      "|------------------|\n",
      "| Anaconda           |\n",
      "| Jupyter Notebook   |\n",
      "| RStudio            |\n",
      "## Below are a few examples of evaluating arithmetic expressions in Python\n",
      "\n"
     ]
    }
   ],
   "source": [
    "\n",
    "tool_names = [\"Anaconda\", \"Jupyter Notebook\", \"RStudio\"]\n",
    "markdown_table = \"| Tool Name        |\\n|------------------|\\n\" + \"\\n\".join([f\"| {tool:<18} |\" for tool in tool_names])\n",
    "heading = \"### Below are a few examples of evaluating arithmetic expressions in Python\\n\"\n",
    "print(markdown_table + \"\\n\" + heading)\n"
   ]
  },
  {
   "cell_type": "code",
   "execution_count": 7,
   "id": "757e5488",
   "metadata": {},
   "outputs": [
    {
     "data": {
      "text/plain": [
       "17"
      ]
     },
     "execution_count": 7,
     "metadata": {},
     "output_type": "execute_result"
    }
   ],
   "source": [
    "#This a simple arithmetic expression to mutiply then add integers\n",
    "(3*4)+5"
   ]
  },
  {
   "cell_type": "code",
   "execution_count": 11,
   "id": "2d9f8ec9",
   "metadata": {},
   "outputs": [
    {
     "name": "stdout",
     "output_type": "stream",
     "text": [
      "120 minutes is equal to 2.0 hours\n"
     ]
    }
   ],
   "source": [
    "minutes = 120\n",
    "hours = minutes / 60\n",
    "print(f\"{minutes} minutes is equal to {hours} hours\")\n"
   ]
  },
  {
   "cell_type": "code",
   "execution_count": null,
   "id": "270fac6f",
   "metadata": {},
   "outputs": [],
   "source": [
    "Objectives:\n",
    "- Python\n",
    "- Java\n",
    "- R"
   ]
  },
  {
   "cell_type": "code",
   "execution_count": null,
   "id": "f97b16c3",
   "metadata": {},
   "outputs": [],
   "source": [
    "AUTHOR\n",
    "AAKRITI"
   ]
  }
 ],
 "metadata": {
  "kernelspec": {
   "display_name": "Python 3 (ipykernel)",
   "language": "python",
   "name": "python3"
  },
  "language_info": {
   "codemirror_mode": {
    "name": "ipython",
    "version": 3
   },
   "file_extension": ".py",
   "mimetype": "text/x-python",
   "name": "python",
   "nbconvert_exporter": "python",
   "pygments_lexer": "ipython3",
   "version": "3.11.4"
  }
 },
 "nbformat": 4,
 "nbformat_minor": 5
}
